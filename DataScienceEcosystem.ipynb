{
 "cells": [
  {
   "cell_type": "markdown",
   "id": "3a2ec354",
   "metadata": {},
   "source": [
    "# Data Science Tools and Ecosystem"
   ]
  },
  {
   "cell_type": "markdown",
   "id": "3d5d6b19",
   "metadata": {},
   "source": [
    "In this notebook, Data Science Tools and Ecosystem are summerized."
   ]
  },
  {
   "cell_type": "markdown",
   "id": "0b9c4574",
   "metadata": {},
   "source": [
    "Some of the popular languages that Data Scientist use are:\n",
    "1. Python\n",
    "2. R\n",
    "3. Java\n",
    "4. Scala\n",
    "5. SQL"
   ]
  },
  {
   "cell_type": "markdown",
   "id": "c94cc2bf",
   "metadata": {},
   "source": [
    "Some of the commonly used libraries used by Data Scientists includes:\n",
    "   1. NumPy\n",
    "   2. Pandas\n",
    "   3. SciPy\n",
    "   4. TensorFlow\n",
    "   5. Plotly\n",
    "   6. PyTorch\n",
    "   7. Ggplot"
   ]
  },
  {
   "cell_type": "markdown",
   "id": "100df1dd",
   "metadata": {},
   "source": [
    "Some of the open source tools used in Data Science:\n",
    "\n",
    "| __Data Science Tools__ |\n",
    "------------------------------\n",
    "|MySQL|\n",
    "|Apache Spark|\n",
    "|Hadoop|\n",
    "|MongoDB|\n",
    "|PostgreSQL|\n",
    "|Kubeflow|"
   ]
  },
  {
   "cell_type": "markdown",
   "id": "49df99c4",
   "metadata": {},
   "source": [
    "### Below are a few examples of evaluating arithmetic expressions in Python:\n"
   ]
  },
  {
   "cell_type": "code",
   "execution_count": 10,
   "id": "3faea484",
   "metadata": {},
   "outputs": [],
   "source": [
    "a = 3\n",
    "b = 7"
   ]
  },
  {
   "cell_type": "code",
   "execution_count": 16,
   "id": "e03e4f09",
   "metadata": {},
   "outputs": [],
   "source": [
    "sum_ab = eval(\"a+b\")\n",
    "sub_ba = eval(\"b-a\")\n",
    "mul_ab = eval(\"a*b\")\n",
    "div_ba = eval(\"b/a\")\n",
    "sqr_ab = eval(\"a ** b\")\n",
    "rem_ba = eval(\"b%a\")"
   ]
  },
  {
   "cell_type": "code",
   "execution_count": 17,
   "id": "6af2ba2d",
   "metadata": {},
   "outputs": [
    {
     "name": "stdout",
     "output_type": "stream",
     "text": [
      "10\n",
      "4\n",
      "21\n",
      "2.3333333333333335\n",
      "2187\n",
      "1\n"
     ]
    }
   ],
   "source": [
    "print(sum_ab)\n",
    "print(sub_ba)\n",
    "print(mul_ab)\n",
    "print(div_ba)\n",
    "print(sqr_ab)\n",
    "print(rem_ba)"
   ]
  },
  {
   "cell_type": "code",
   "execution_count": 18,
   "id": "786b3285",
   "metadata": {},
   "outputs": [
    {
     "name": "stdout",
     "output_type": "stream",
     "text": [
      "17\n"
     ]
    }
   ],
   "source": [
    "#This a simple arithmetic expression to mutiply then add integers.\n",
    "print(eval(\"(3*4)+5\"))"
   ]
  },
  {
   "cell_type": "code",
   "execution_count": 19,
   "id": "bfdf5c86",
   "metadata": {},
   "outputs": [
    {
     "name": "stdout",
     "output_type": "stream",
     "text": [
      "3.3333333333333335\n"
     ]
    }
   ],
   "source": [
    "# This will convert 200 minutes to hours by diving by 60\n",
    "print(eval(\"200/60\"))"
   ]
  },
  {
   "cell_type": "markdown",
   "id": "fb103ce4",
   "metadata": {},
   "source": [
    "__Objectives:__\n",
    "\n",
    "* List of popular languages that are used by data scientists\n",
    "* Some commonly used libraries used by data scientists\n",
    "* List of open source tools\n",
    "* Evaluating different Arithmatic expressions"
   ]
  },
  {
   "cell_type": "markdown",
   "id": "6fc88233",
   "metadata": {},
   "source": [
    "## Author\n",
    "Eliza Sethi"
   ]
  }
 ],
 "metadata": {
  "kernelspec": {
   "display_name": "Python 3 (ipykernel)",
   "language": "python",
   "name": "python3"
  },
  "language_info": {
   "codemirror_mode": {
    "name": "ipython",
    "version": 3
   },
   "file_extension": ".py",
   "mimetype": "text/x-python",
   "name": "python",
   "nbconvert_exporter": "python",
   "pygments_lexer": "ipython3",
   "version": "3.11.5"
  }
 },
 "nbformat": 4,
 "nbformat_minor": 5
}
